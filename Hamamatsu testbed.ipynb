{
 "cells": [
  {
   "cell_type": "code",
   "execution_count": 1,
   "metadata": {},
   "outputs": [],
   "source": [
    "from ctypes import *\n",
    "import logging\n",
    "import numpy as np\n",
    "import time\n",
    "import os\n",
    "\n",
    "from hamamatsu import Hamamatsu\n",
    "from pxi import PXI\n",
    "from pxierrors import IMAQError"
   ]
  },
  {
   "cell_type": "code",
   "execution_count": 2,
   "metadata": {},
   "outputs": [],
   "source": [
    "class FakePXI(PXI):\n",
    "    def __init__(self, address = None):\n",
    "        self.logger = logging.getLogger(str(self.__class__))\n",
    "        self.logger.setLevel(logging.DEBUG)\n",
    "        #fh = logging.FileHandler('spam.log')\n",
    "        #fh.setLevel(logging.DEBUG)\n",
    "        #self.logger.addHandler(fh)\n",
    "        self._stop_connections = False\n",
    "        self._reset_connection = False\n",
    "        self._exit_measurement = False\n",
    "        self.cycle_continuously = False\n",
    "        self.return_data = \"\"\n",
    "        self.return_data_queue = \"\"\n",
    "        self.measurement_timeout = 0\n",
    "        self.keylisten_thread = None\n",
    "        #self.command_queue = Queue(0)  # 0 indicates no maximum queue length enforced.\n",
    "        self.element_tags = []  # for debugging\n",
    "        self.devices = []\n",
    "        \n",
    "    @property\n",
    "    def stop_connections(self) -> bool:\n",
    "        return self._stop_connections\n",
    "\n",
    "    @stop_connections.setter\n",
    "    def stop_connections(self, value):\n",
    "        self._stop_connections = value\n",
    "\n",
    "    @property\n",
    "    def reset_connection(self) -> bool:\n",
    "        return self._reset_connection\n",
    "\n",
    "    @reset_connection.setter\n",
    "    def reset_connection(self, value):\n",
    "        self._reset_connection = value\n",
    "\n",
    "    @property\n",
    "    def exit_measurement(self) -> bool:\n",
    "        return self._exit_measurement\n",
    "\n",
    "    @exit_measurement.setter\n",
    "    def exit_measurement(self, value):\n",
    "        self._exit_measurement = value"
   ]
  },
  {
   "cell_type": "code",
   "execution_count": 3,
   "metadata": {},
   "outputs": [],
   "source": [
    "def bare_hamamatsu_init(HM: Hamamatsu):\n",
    "    session = HM.session\n",
    "    session.open_interface(\"img0\")\n",
    "    session.open_session()\n",
    "    \n",
    "def write_serial(HM: Hamamatsu, command):\n",
    "    return HM.session.hamamatsu_serial(command)"
   ]
  },
  {
   "cell_type": "code",
   "execution_count": 4,
   "metadata": {},
   "outputs": [],
   "source": [
    "hamamatsu = Hamamatsu(FakePXI())\n",
    "try:\n",
    "    bare_hamamatsu_init(hamamatsu)\n",
    "except IMAQError as e:\n",
    "    if e.error_code == -1074396995:\n",
    "        print(\"whoops! we already have a session!\")\n",
    "    else:\n",
    "        raise"
   ]
  },
  {
   "cell_type": "code",
   "execution_count": null,
   "metadata": {},
   "outputs": [],
   "source": [
    "def LL_write_serial(HM: Hamamatsu, command):\n",
    "    \n",
    "    session = HM.session\n",
    "    imaq = session.imaq\n",
    "    expected_response = command\n",
    "    check_error = True\n",
    "    timeout = 10000\n",
    "    \n",
    "    enc_exp_rsp = command\n",
    "    \n",
    "    c_cmd = create_unicode_buffer(command)\n",
    "    #print(c_cmd.value)\n",
    "    bf_size = c_uint32(100)\n",
    "\n",
    "    error_code = imaq.imgSessionSerialWrite(\n",
    "        session.session_id,   # SESSION_ID\n",
    "        c_cmd,             # void*\n",
    "        byref(bf_size),    # uInt32*\n",
    "        c_int32(timeout),  # uInt32\n",
    "    )\n",
    "\n",
    "    if error_code != 0 and check_error:\n",
    "        session.check(error_code, f\"IMAQ serial write command {command}\")\n",
    "        return error_code, \"Error\"\n",
    "\n",
    "    str_bf = create_string_buffer(b\"\",size = 20)\n",
    "    print(f\"buffer size = {bf_size.value}\")\n",
    "    error_code = imaq.imgSessionSerialRead(\n",
    "        session.session_id,  # SESSION_ID\n",
    "        str_bf,           # void*\n",
    "        byref(bf_size),   # uInt32*\n",
    "        c_int32(timeout)  # Int32\n",
    "    )\n",
    "\n",
    "    if error_code != 0 and check_error:\n",
    "        session.check(error_code, f\"IMAQ serial read command {command}\")\n",
    "\n",
    "    enc_rsp = str_bf.value\n",
    "    if expected_response == \"Nothing\" or enc_exp_rsp == enc_rsp:\n",
    "        return error_code, enc_rsp\n",
    "    msg = f\"Serial write {command}.\\n Expected Response {enc_exp_rsp} got {enc_rsp}\\n\"\n",
    "    session.logger.warning(msg)\n",
    "    return error_code, enc_rsp\n",
    "\n",
    "LL_write_serial(hamamatsu,\"AMD N\\r\")\n"
   ]
  },
  {
   "cell_type": "code",
   "execution_count": null,
   "metadata": {},
   "outputs": [],
   "source": [
    "try:\n",
    "    session = hamamatsu.session\n",
    "    bf_size = c_uint32(100)\n",
    "    timeout = 10000\n",
    "    str_bf = create_string_buffer(b\"\", bf_size.value)\n",
    "    print(f\"buffer size = {bf_size.value}\")\n",
    "    error_code = session.imaq.imgSessionSerialRead(\n",
    "        session.session_id,  # SESSION_ID\n",
    "        str_bf,           # void*\n",
    "        byref(bf_size),   # uInt32*\n",
    "        c_int32(timeout)  # Int32\n",
    "    )\n",
    "\n",
    "    if error_code != 0 and True:\n",
    "        session.check(error_code, f\"IMAQ serial read\")\n",
    "except IMAQError as e:\n",
    "    pass"
   ]
  },
  {
   "cell_type": "code",
   "execution_count": null,
   "metadata": {},
   "outputs": [],
   "source": [
    "#hamamatsu.close()"
   ]
  },
  {
   "cell_type": "code",
   "execution_count": null,
   "metadata": {},
   "outputs": [],
   "source": []
  }
 ],
 "metadata": {
  "kernelspec": {
   "display_name": "Python 3",
   "language": "python",
   "name": "python3"
  },
  "language_info": {
   "codemirror_mode": {
    "name": "ipython",
    "version": 3
   },
   "file_extension": ".py",
   "mimetype": "text/x-python",
   "name": "python",
   "nbconvert_exporter": "python",
   "pygments_lexer": "ipython3",
   "version": "3.8.2"
  }
 },
 "nbformat": 4,
 "nbformat_minor": 2
}
