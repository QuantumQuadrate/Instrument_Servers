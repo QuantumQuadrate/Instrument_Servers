{
 "cells": [
  {
   "cell_type": "code",
   "execution_count": 1,
   "metadata": {},
   "outputs": [],
   "source": [
    "from ctypes import *\n",
    "import numpy as np\n",
    "import matplotlib.pyplot as plt\n",
    "import time\n",
    "import os"
   ]
  },
  {
   "cell_type": "code",
   "execution_count": 2,
   "metadata": {},
   "outputs": [],
   "source": [
    "def CheckError(error_code, imaq_func):\n",
    "    if error_code != 0 :\n",
    "        img_err_msg = c_char_p(\"\".encode(\"utf-8\"))\n",
    "        imaq.imgShowError(error_code,img_err_msg)\n",
    "        if img_err_msg == \"The error code passed into imgShowError is unknown.\":\n",
    "            print(\"Serial Error in {}: {}\".format(imaq_func,error_code))\n",
    "        else:\n",
    "            print(\"Error in {} : {} : {}\".format(imaq_func,error_code,img_err_msg.value))\n",
    "    return error_code\n",
    "            \n",
    "def close_session(ID):\n",
    "    \"\"\"\n",
    "    wraps imaq.imgClose. Closes interface or session and releases all associated resources\n",
    "    param ID : c_ulong, valid interface or session ID\n",
    "    return new_ID_p : c_ulong, New Interface ID.\n",
    "    \"\"\"\n",
    "    f_name = \"close_session\"\n",
    "    CheckError(imaq.imgClose(ID,1),f_name)\n",
    "\n",
    "def open_interface(dev_addr):\n",
    "    \"\"\"\n",
    "    Wraps imaq.imgInterfaceOpen. Opens imaq interface by a name specified in NI MAX.\n",
    "    param dev_addr : string, address of NI camera. Can be found in NI Max\n",
    "    retrun iID : c_ulong, interface ID\n",
    "    \"\"\"\n",
    "    f_name = \"open_interface\"\n",
    "    \n",
    "    interface_id = c_uint32(0)\n",
    "    interface_name = c_char_p(dev_addr.encode('utf-8'))\n",
    "    CheckError(imaq.imgInterfaceOpen(interface_name,byref(interface_id)),f_name)\n",
    "    return interface_id\n",
    "\n",
    "def open_session(iID):\n",
    "    \"\"\"\n",
    "    Wraps imaq.imgSessionOpen. Opens session. Inherits all data associate with the given interface\n",
    "    para iID : c_ulong, valid interface ID\n",
    "    return sID : c_ulong, session ID\n",
    "    \"\"\"\n",
    "    f_name = \"open_session\"\n",
    "    sID = c_ulong(0)\n",
    "    CheckError(imaq.imgSessionOpen(iID,byref(sID)),f_name)\n",
    "    \n",
    "def session_get_roi(sID):\n",
    "    \"\"\"\n",
    "    wraps imaq.imgSessionGetROI. gets aquisition ROI settings from device.\n",
    "    param sID : c_ulong, valid session ID\n",
    "    returns height : c_ulong,  value of IMG_ATTR_ROI_HEIGHT.\n",
    "    returns width : c_ulong, value of IMG_ATTR_ROI_WIDTH.\n",
    "    returns top : c_ulong, value of IMG_ATTR_ROI_TOP\n",
    "    returns left : c_ulong, value of IMG_ATTR_ROI_LEFT.\n",
    "    \"\"\"\n",
    "    f_name = \"session_get_roi\"\n",
    "    \n",
    "    height = c_uint(0)\n",
    "    width = c_uint(0)\n",
    "    top = c_uint(0)\n",
    "    left = c_uint(0)\n",
    "    CheckError(imaq.imgSessionGetROI(Sess_ID, byref(top), byref(left), byref(height), byref(width)),f_name)\n",
    "\n",
    "    return height, width, top, left\n",
    "\n",
    "def session_get_buffer_size(sID):\n",
    "    f_name = \"session_get_buffer_size\"\n",
    "    \n",
    "    size_needed = c_ulong(0)\n",
    "    CheckError(imq.imgSessionGetBufferSize(sID, byref(size_needed)), f_name)\n",
    "    \n",
    "    return size_needed\n",
    "\n",
    "#def session_trigger_configure(sid,trigger_type,trigger_number,polarity,timeout,action):"
   ]
  },
  {
   "cell_type": "code",
   "execution_count": 4,
   "metadata": {},
   "outputs": [],
   "source": [
    "imaq = CDLL(os.path.join(\"C:\\Windows\\System32\", \"imaq.dll\"))"
   ]
  },
  {
   "cell_type": "code",
   "execution_count": 6,
   "metadata": {},
   "outputs": [
    {
     "name": "stdout",
     "output_type": "stream",
     "text": [
      "Error in open_interface : -1074397163 : b'The passed in interface or session is invalid.'\n",
      "c_ulong(0)\n",
      "Error in open_session : -1074397163 : b'The passed in interface or session is invalid.'\n"
     ]
    }
   ],
   "source": [
    "dev_addr = 'img0'\n",
    "interface_id = open_interface(dev_addr)\n",
    "print(interface_id)\n",
    "session_id = open_session(interface_id)"
   ]
  },
  {
   "cell_type": "code",
   "execution_count": 1,
   "metadata": {},
   "outputs": [
    {
     "ename": "NameError",
     "evalue": "name 'imaq' is not defined",
     "output_type": "error",
     "traceback": [
      "\u001b[1;31m---------------------------------------------------------------------------\u001b[0m",
      "\u001b[1;31mNameError\u001b[0m                                 Traceback (most recent call last)",
      "\u001b[1;32m<ipython-input-1-655e428bd3b5>\u001b[0m in \u001b[0;36m<module>\u001b[1;34m\u001b[0m\n\u001b[1;32m----> 1\u001b[1;33m \u001b[0mimaq\u001b[0m\u001b[1;33m.\u001b[0m\u001b[0mconstants\u001b[0m\u001b[1;33m(\u001b[0m\u001b[1;33m)\u001b[0m\u001b[1;33m\u001b[0m\u001b[1;33m\u001b[0m\u001b[0m\n\u001b[0m",
      "\u001b[1;31mNameError\u001b[0m: name 'imaq' is not defined"
     ]
    }
   ],
   "source": [
    "imaq.constants()"
   ]
  },
  {
   "cell_type": "code",
   "execution_count": 47,
   "metadata": {},
   "outputs": [
    {
     "data": {
      "text/plain": [
       "0"
      ]
     },
     "execution_count": 47,
     "metadata": {},
     "output_type": "execute_result"
    }
   ],
   "source": [
    "dev_addr = 'img0'  #  Configured to correspont to Hamamatsu in NI-MAX\n",
    "interface_name = c_char_p(dev_addr)\n",
    "if ID_pointer.value != 0:\n",
    "    ID_pointer = CloseSession(ID_pointer)\n",
    "CheckError(imaq.imgInterfaceOpen(interface_name,byref(ID_pointer)),\"imgInterfaceOpen\")"
   ]
  },
  {
   "cell_type": "code",
   "execution_count": 48,
   "metadata": {},
   "outputs": [
    {
     "data": {
      "text/plain": [
       "0"
      ]
     },
     "execution_count": 48,
     "metadata": {},
     "output_type": "execute_result"
    }
   ],
   "source": [
    "Sess_ID = c_ulong(0)\n",
    "CheckError(imaq.imgSessionOpen(ID_pointer,byref(Sess_ID)),\"imgSessionOpen\")"
   ]
  },
  {
   "cell_type": "code",
   "execution_count": 49,
   "metadata": {},
   "outputs": [
    {
     "name": "stdout",
     "output_type": "stream",
     "text": [
      "c_ulong(512L) c_ulong(512L) c_ulong(0L) c_ulong(0L)\n"
     ]
    }
   ],
   "source": [
    "height = c_uint(0)\n",
    "width = c_uint(0)\n",
    "top = c_uint(0)\n",
    "left = c_uint(0)\n",
    "CheckError(imaq.imgSessionGetROI(Sess_ID, byref(top), byref(left), byref(height), byref(width)),\"imgSessionGetROI\")\n",
    "print(height, width, top, left)"
   ]
  },
  {
   "cell_type": "code",
   "execution_count": 50,
   "metadata": {},
   "outputs": [
    {
     "name": "stdout",
     "output_type": "stream",
     "text": [
      "c_ulong(524288L)\n"
     ]
    }
   ],
   "source": [
    "sizeNeeded = c_ulong(0)\n",
    "CheckError(imaq.imgSessionGetBufferSize(Sess_ID,byref(sizeNeeded)),\"imgSessionGetBufferSize\")\n",
    "print(sizeNeeded)"
   ]
  },
  {
   "cell_type": "code",
   "execution_count": 14,
   "metadata": {},
   "outputs": [
    {
     "name": "stdout",
     "output_type": "stream",
     "text": [
      "4\n"
     ]
    }
   ],
   "source": [
    "stf_bf = \"bla\"\n",
    "test = create_string_buffer(stf_bf.encode('utf-8'))\n",
    "test_cp = c_char_p(stf_bf.encode('utf-8'))\n",
    "print(sizeof(test))"
   ]
  },
  {
   "cell_type": "code",
   "execution_count": 16,
   "metadata": {},
   "outputs": [
    {
     "name": "stdout",
     "output_type": "stream",
     "text": [
      "<ctypes.c_char_Array_4 object at 0x00F82DF0> b'bla'\n",
      "c_char_p(350191600) b'bla'\n",
      "True\n"
     ]
    }
   ],
   "source": [
    "print(test,test.value)\n",
    "print(test_cp,test_cp.value)\n",
    "print(stf_bf.encode('utf-8') == test_cp.value)"
   ]
  },
  {
   "cell_type": "code",
   "execution_count": 45,
   "metadata": {},
   "outputs": [],
   "source": [
    "bufferpointer = (c_uint16 * height.value * width.value)()"
   ]
  },
  {
   "cell_type": "code",
   "execution_count": 44,
   "metadata": {},
   "outputs": [],
   "source": [
    "bufferpointer = None"
   ]
  },
  {
   "cell_type": "code",
   "execution_count": 46,
   "metadata": {},
   "outputs": [
    {
     "name": "stdout",
     "output_type": "stream",
     "text": [
      "c_ulong(2147486209L) c_ulong(2147486211L) c_ulong(512L) c_ulong(512L) <__main__.c_ushort_Array_512_Array_512 object at 0x0000000007456148>\n"
     ]
    }
   ],
   "source": [
    "print(ID_pointer, Sess_ID,height,width,bufferpointer)"
   ]
  },
  {
   "cell_type": "code",
   "execution_count": 51,
   "metadata": {},
   "outputs": [],
   "source": [
    "def open_interface(dev_addr):\n",
    "    \"\"\"\n",
    "    Wraps imaq.imgInterfaceOpen\n",
    "    param dev_addr : string, address of NI camera. Can be found in NI Max\n",
    "    retrun ID : c_ulong, interface ID\n",
    "    \"\"\"\n",
    "    f_name = \"open_interface\"\n",
    "    \n",
    "    ID = c_ulong(0)\n",
    "    int_name = c_char_p(dev_addr)\n",
    "    CheckError(imaq.imgInterfaceOpen(int_name,byref(ID)),f_name)\n",
    "    return ID"
   ]
  },
  {
   "cell_type": "code",
   "execution_count": 3,
   "metadata": {},
   "outputs": [
    {
     "ename": "ValueError",
     "evalue": "could not convert string to float: 'hi'",
     "output_type": "error",
     "traceback": [
      "\u001b[1;31m---------------------------------------------------------------------------\u001b[0m",
      "\u001b[1;31mValueError\u001b[0m                                Traceback (most recent call last)",
      "\u001b[1;32m<ipython-input-3-e80d283b5a12>\u001b[0m in \u001b[0;36m<module>\u001b[1;34m\u001b[0m\n\u001b[1;32m----> 1\u001b[1;33m \u001b[0mfloat\u001b[0m\u001b[1;33m(\u001b[0m\u001b[1;34m\"hi\"\u001b[0m\u001b[1;33m)\u001b[0m\u001b[1;33m\u001b[0m\u001b[1;33m\u001b[0m\u001b[0m\n\u001b[0m",
      "\u001b[1;31mValueError\u001b[0m: could not convert string to float: 'hi'"
     ]
    }
   ],
   "source": [
    "float(\"hi\")"
   ]
  },
  {
   "cell_type": "code",
   "execution_count": 11,
   "metadata": {},
   "outputs": [
    {
     "name": "stdout",
     "output_type": "stream",
     "text": [
      "56.460000\n"
     ]
    }
   ],
   "source": [
    "print(\"{:.6f}\".format(56.46))"
   ]
  },
  {
   "cell_type": "code",
   "execution_count": 12,
   "metadata": {},
   "outputs": [
    {
     "data": {
      "text/plain": [
       "56"
      ]
     },
     "execution_count": 12,
     "metadata": {},
     "output_type": "execute_result"
    }
   ],
   "source": [
    "int(56.46)"
   ]
  },
  {
   "cell_type": "code",
   "execution_count": 13,
   "metadata": {},
   "outputs": [
    {
     "name": "stdout",
     "output_type": "stream",
     "text": [
      "Off Off\n"
     ]
    }
   ],
   "source": [
    "tst_dict = {\"Default\":\"Off\",\"Off\":\"This\"}\n",
    "print(tst_dict[\"Default\"],tst_dict.get(\"Default\"))"
   ]
  },
  {
   "cell_type": "code",
   "execution_count": 15,
   "metadata": {},
   "outputs": [
    {
     "data": {
      "text/plain": [
       "'This'"
      ]
     },
     "execution_count": 15,
     "metadata": {},
     "output_type": "execute_result"
    }
   ],
   "source": [
    "tst_dict.setdefault(\"Off\")"
   ]
  },
  {
   "cell_type": "code",
   "execution_count": 16,
   "metadata": {},
   "outputs": [
    {
     "data": {
      "text/plain": [
       "'Off'"
      ]
     },
     "execution_count": 16,
     "metadata": {},
     "output_type": "execute_result"
    }
   ],
   "source": [
    "tst_dict.get(\"Default\")"
   ]
  },
  {
   "cell_type": "code",
   "execution_count": 20,
   "metadata": {},
   "outputs": [
    {
     "name": "stdout",
     "output_type": "stream",
     "text": [
      "c_ulong(0)\n"
     ]
    }
   ],
   "source": [
    "btest = False\n",
    "print(c_uint32(btest))"
   ]
  },
  {
   "cell_type": "code",
   "execution_count": null,
   "metadata": {},
   "outputs": [],
   "source": []
  }
 ],
 "metadata": {
  "kernelspec": {
   "display_name": "Python 3",
   "language": "python",
   "name": "python3"
  },
  "language_info": {
   "codemirror_mode": {
    "name": "ipython",
    "version": 3
   },
   "file_extension": ".py",
   "mimetype": "text/x-python",
   "name": "python",
   "nbconvert_exporter": "python",
   "pygments_lexer": "ipython3",
   "version": "3.8.2"
  }
 },
 "nbformat": 4,
 "nbformat_minor": 2
}
