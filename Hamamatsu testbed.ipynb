{
 "cells": [
  {
   "cell_type": "code",
   "execution_count": 2,
   "metadata": {},
   "outputs": [],
   "source": [
    "from ctypes import *\n",
    "import numpy as np\n",
    "import matplotlib.pyplot as plt\n",
    "import time\n",
    "import os"
   ]
  },
  {
   "cell_type": "code",
   "execution_count": 4,
   "metadata": {},
   "outputs": [],
   "source": [
    "def CheckError(error_code, imaq_func):\n",
    "    if error_code != 0 :\n",
    "        img_err_msg = c_char_p(\"\")\n",
    "        imaq.imgShowError(error_code,img_err_msg)\n",
    "        if img_err_msg == \"The error code passed into imgShowError is unknown.\":\n",
    "            print(\"Serial Error in {}: {}\".format(imaq_func,error_code))\n",
    "        else:\n",
    "            print(\"Error in {} : {} : {}\".format(imaq_func,error_code,img_err_msg.value))\n",
    "    return error_code\n",
    "            \n",
    "def close_session(ID):\n",
    "    \"\"\"\n",
    "    wraps imaq.imgClose. Closes interface or session and releases all associated resources\n",
    "    param ID : c_ulong, valid interface or session ID\n",
    "    return new_ID_p : c_ulong, New Interface ID.\n",
    "    \"\"\"\n",
    "    f_name = \"close_session\"\n",
    "    CheckError(imaq.imgClose(ID,1),f_name)\n",
    "\n",
    "def open_interface(dev_addr):\n",
    "    \"\"\"\n",
    "    Wraps imaq.imgInterfaceOpen. Opens imaq interface by a name specified in NI MAX.\n",
    "    param dev_addr : string, address of NI camera. Can be found in NI Max\n",
    "    retrun iID : c_ulong, interface ID\n",
    "    \"\"\"\n",
    "    f_name = \"open_interface\"\n",
    "    \n",
    "    iID = c_ulong(0)\n",
    "    int_name = c_char_p(dev_addr)\n",
    "    CheckError(imaq.imgInterfaceOpen(int_name,byref(iID)),f_name)\n",
    "    return iID\n",
    "\n",
    "def open_session(iID):\n",
    "    \"\"\"\n",
    "    Wraps imaq.imgSessionOpen. Opens session. Inherits all data associate with the given interface\n",
    "    para iID : c_ulong, valid interface ID\n",
    "    return sID : c_ulong, session ID\n",
    "    \"\"\"\n",
    "    f_name = \"open_session\"\n",
    "    sID = c_ulong(0)\n",
    "    CheckError(imaq.imgSessionOpen(iID,byref(sID)),f_name)\n",
    "    \n",
    "def session_get_roi(sID):\n",
    "    \"\"\"\n",
    "    wraps imaq.imgSessionGetROI. gets aquisition ROI settings from device.\n",
    "    param sID : c_ulong, valid session ID\n",
    "    returns height : c_ulong,  value of IMG_ATTR_ROI_HEIGHT.\n",
    "    returns width : c_ulong, value of IMG_ATTR_ROI_WIDTH.\n",
    "    returns top : c_ulong, value of IMG_ATTR_ROI_TOP\n",
    "    returns left : c_ulong, value of IMG_ATTR_ROI_LEFT.\n",
    "    \"\"\"\n",
    "    f_name = \"session_get_roi\"\n",
    "    \n",
    "    height = c_uint(0)\n",
    "    width = c_uint(0)\n",
    "    top = c_uint(0)\n",
    "    left = c_uint(0)\n",
    "    CheckError(imaq.imgSessionGetROI(Sess_ID, byref(top), byref(left), byref(height), byref(width)),f_name)\n",
    "\n",
    "    return height, width, top, left\n",
    "\n",
    "def session_get_buffer_size(sID):\n",
    "    f_name = \"session_get_buffer_size\"\n",
    "    \n",
    "    size_needed = c_ulong(0)\n",
    "    CheckError(imq.imgSessionGetBufferSize(sID, byref(size_needed)), f_name)\n",
    "    \n",
    "    return size_needed\n",
    "\n",
    "#def session_trigger_configure(sid,trigger_type,trigger_number,polarity,timeout,action):"
   ]
  },
  {
   "cell_type": "code",
   "execution_count": 3,
   "metadata": {},
   "outputs": [],
   "source": [
    "imaq = CDLL(os.path.join(\"C:\\Windows\\System32\", \"imaq.dll\"))"
   ]
  },
  {
   "cell_type": "code",
   "execution_count": 56,
   "metadata": {},
   "outputs": [],
   "source": [
    "dev_addr = 'img0'\n",
    "interface_id = open_interface(dev_addr)\n",
    "session_id = open_session(interface_id)"
   ]
  },
  {
   "cell_type": "code",
   "execution_count": 6,
   "metadata": {},
   "outputs": [
    {
     "ename": "AttributeError",
     "evalue": "function 'constants' not found",
     "output_type": "error",
     "traceback": [
      "\u001b[1;31m---------------------------------------------------------------------------\u001b[0m",
      "\u001b[1;31mAttributeError\u001b[0m                            Traceback (most recent call last)",
      "\u001b[1;32m<ipython-input-6-655e428bd3b5>\u001b[0m in \u001b[0;36m<module>\u001b[1;34m\u001b[0m\n\u001b[1;32m----> 1\u001b[1;33m \u001b[0mimaq\u001b[0m\u001b[1;33m.\u001b[0m\u001b[0mconstants\u001b[0m\u001b[1;33m(\u001b[0m\u001b[1;33m)\u001b[0m\u001b[1;33m\u001b[0m\u001b[1;33m\u001b[0m\u001b[0m\n\u001b[0m",
      "\u001b[1;32mc:\\users\\juan\\appdata\\local\\programs\\python\\python38-32\\lib\\ctypes\\__init__.py\u001b[0m in \u001b[0;36m__getattr__\u001b[1;34m(self, name)\u001b[0m\n\u001b[0;32m    384\u001b[0m         \u001b[1;32mif\u001b[0m \u001b[0mname\u001b[0m\u001b[1;33m.\u001b[0m\u001b[0mstartswith\u001b[0m\u001b[1;33m(\u001b[0m\u001b[1;34m'__'\u001b[0m\u001b[1;33m)\u001b[0m \u001b[1;32mand\u001b[0m \u001b[0mname\u001b[0m\u001b[1;33m.\u001b[0m\u001b[0mendswith\u001b[0m\u001b[1;33m(\u001b[0m\u001b[1;34m'__'\u001b[0m\u001b[1;33m)\u001b[0m\u001b[1;33m:\u001b[0m\u001b[1;33m\u001b[0m\u001b[1;33m\u001b[0m\u001b[0m\n\u001b[0;32m    385\u001b[0m             \u001b[1;32mraise\u001b[0m \u001b[0mAttributeError\u001b[0m\u001b[1;33m(\u001b[0m\u001b[0mname\u001b[0m\u001b[1;33m)\u001b[0m\u001b[1;33m\u001b[0m\u001b[1;33m\u001b[0m\u001b[0m\n\u001b[1;32m--> 386\u001b[1;33m         \u001b[0mfunc\u001b[0m \u001b[1;33m=\u001b[0m \u001b[0mself\u001b[0m\u001b[1;33m.\u001b[0m\u001b[0m__getitem__\u001b[0m\u001b[1;33m(\u001b[0m\u001b[0mname\u001b[0m\u001b[1;33m)\u001b[0m\u001b[1;33m\u001b[0m\u001b[1;33m\u001b[0m\u001b[0m\n\u001b[0m\u001b[0;32m    387\u001b[0m         \u001b[0msetattr\u001b[0m\u001b[1;33m(\u001b[0m\u001b[0mself\u001b[0m\u001b[1;33m,\u001b[0m \u001b[0mname\u001b[0m\u001b[1;33m,\u001b[0m \u001b[0mfunc\u001b[0m\u001b[1;33m)\u001b[0m\u001b[1;33m\u001b[0m\u001b[1;33m\u001b[0m\u001b[0m\n\u001b[0;32m    388\u001b[0m         \u001b[1;32mreturn\u001b[0m \u001b[0mfunc\u001b[0m\u001b[1;33m\u001b[0m\u001b[1;33m\u001b[0m\u001b[0m\n",
      "\u001b[1;32mc:\\users\\juan\\appdata\\local\\programs\\python\\python38-32\\lib\\ctypes\\__init__.py\u001b[0m in \u001b[0;36m__getitem__\u001b[1;34m(self, name_or_ordinal)\u001b[0m\n\u001b[0;32m    389\u001b[0m \u001b[1;33m\u001b[0m\u001b[0m\n\u001b[0;32m    390\u001b[0m     \u001b[1;32mdef\u001b[0m \u001b[0m__getitem__\u001b[0m\u001b[1;33m(\u001b[0m\u001b[0mself\u001b[0m\u001b[1;33m,\u001b[0m \u001b[0mname_or_ordinal\u001b[0m\u001b[1;33m)\u001b[0m\u001b[1;33m:\u001b[0m\u001b[1;33m\u001b[0m\u001b[1;33m\u001b[0m\u001b[0m\n\u001b[1;32m--> 391\u001b[1;33m         \u001b[0mfunc\u001b[0m \u001b[1;33m=\u001b[0m \u001b[0mself\u001b[0m\u001b[1;33m.\u001b[0m\u001b[0m_FuncPtr\u001b[0m\u001b[1;33m(\u001b[0m\u001b[1;33m(\u001b[0m\u001b[0mname_or_ordinal\u001b[0m\u001b[1;33m,\u001b[0m \u001b[0mself\u001b[0m\u001b[1;33m)\u001b[0m\u001b[1;33m)\u001b[0m\u001b[1;33m\u001b[0m\u001b[1;33m\u001b[0m\u001b[0m\n\u001b[0m\u001b[0;32m    392\u001b[0m         \u001b[1;32mif\u001b[0m \u001b[1;32mnot\u001b[0m \u001b[0misinstance\u001b[0m\u001b[1;33m(\u001b[0m\u001b[0mname_or_ordinal\u001b[0m\u001b[1;33m,\u001b[0m \u001b[0mint\u001b[0m\u001b[1;33m)\u001b[0m\u001b[1;33m:\u001b[0m\u001b[1;33m\u001b[0m\u001b[1;33m\u001b[0m\u001b[0m\n\u001b[0;32m    393\u001b[0m             \u001b[0mfunc\u001b[0m\u001b[1;33m.\u001b[0m\u001b[0m__name__\u001b[0m \u001b[1;33m=\u001b[0m \u001b[0mname_or_ordinal\u001b[0m\u001b[1;33m\u001b[0m\u001b[1;33m\u001b[0m\u001b[0m\n",
      "\u001b[1;31mAttributeError\u001b[0m: function 'constants' not found"
     ]
    }
   ],
   "source": [
    "imaq.constants()"
   ]
  },
  {
   "cell_type": "code",
   "execution_count": 47,
   "metadata": {},
   "outputs": [
    {
     "data": {
      "text/plain": [
       "0"
      ]
     },
     "execution_count": 47,
     "metadata": {},
     "output_type": "execute_result"
    }
   ],
   "source": [
    "dev_addr = 'img0'  #  Configured to correspont to Hamamatsu in NI-MAX\n",
    "interface_name = c_char_p(dev_addr)\n",
    "if ID_pointer.value != 0:\n",
    "    ID_pointer = CloseSession(ID_pointer)\n",
    "CheckError(imaq.imgInterfaceOpen(interface_name,byref(ID_pointer)),\"imgInterfaceOpen\")"
   ]
  },
  {
   "cell_type": "code",
   "execution_count": 48,
   "metadata": {},
   "outputs": [
    {
     "data": {
      "text/plain": [
       "0"
      ]
     },
     "execution_count": 48,
     "metadata": {},
     "output_type": "execute_result"
    }
   ],
   "source": [
    "Sess_ID = c_ulong(0)\n",
    "CheckError(imaq.imgSessionOpen(ID_pointer,byref(Sess_ID)),\"imgSessionOpen\")"
   ]
  },
  {
   "cell_type": "code",
   "execution_count": 49,
   "metadata": {},
   "outputs": [
    {
     "name": "stdout",
     "output_type": "stream",
     "text": [
      "c_ulong(512L) c_ulong(512L) c_ulong(0L) c_ulong(0L)\n"
     ]
    }
   ],
   "source": [
    "height = c_uint(0)\n",
    "width = c_uint(0)\n",
    "top = c_uint(0)\n",
    "left = c_uint(0)\n",
    "CheckError(imaq.imgSessionGetROI(Sess_ID, byref(top), byref(left), byref(height), byref(width)),\"imgSessionGetROI\")\n",
    "print(height, width, top, left)"
   ]
  },
  {
   "cell_type": "code",
   "execution_count": 50,
   "metadata": {},
   "outputs": [
    {
     "name": "stdout",
     "output_type": "stream",
     "text": [
      "c_ulong(524288L)\n"
     ]
    }
   ],
   "source": [
    "sizeNeeded = c_ulong(0)\n",
    "CheckError(imaq.imgSessionGetBufferSize(Sess_ID,byref(sizeNeeded)),\"imgSessionGetBufferSize\")\n",
    "print(sizeNeeded)"
   ]
  },
  {
   "cell_type": "code",
   "execution_count": 45,
   "metadata": {},
   "outputs": [],
   "source": [
    "bufferpointer = (c_uint16 * height.value * width.value)()"
   ]
  },
  {
   "cell_type": "code",
   "execution_count": 44,
   "metadata": {},
   "outputs": [],
   "source": [
    "bufferpointer = None"
   ]
  },
  {
   "cell_type": "code",
   "execution_count": 46,
   "metadata": {},
   "outputs": [
    {
     "name": "stdout",
     "output_type": "stream",
     "text": [
      "c_ulong(2147486209L) c_ulong(2147486211L) c_ulong(512L) c_ulong(512L) <__main__.c_ushort_Array_512_Array_512 object at 0x0000000007456148>\n"
     ]
    }
   ],
   "source": [
    "print(ID_pointer, Sess_ID,height,width,bufferpointer)"
   ]
  },
  {
   "cell_type": "code",
   "execution_count": 51,
   "metadata": {},
   "outputs": [],
   "source": [
    "def open_interface(dev_addr):\n",
    "    \"\"\"\n",
    "    Wraps imaq.imgInterfaceOpen\n",
    "    param dev_addr : string, address of NI camera. Can be found in NI Max\n",
    "    retrun ID : c_ulong, interface ID\n",
    "    \"\"\"\n",
    "    f_name = \"open_interface\"\n",
    "    \n",
    "    ID = c_ulong(0)\n",
    "    int_name = c_char_p(dev_addr)\n",
    "    CheckError(imaq.imgInterfaceOpen(int_name,byref(ID)),f_name)\n",
    "    return ID"
   ]
  },
  {
   "cell_type": "code",
   "execution_count": null,
   "metadata": {},
   "outputs": [],
   "source": []
  }
 ],
 "metadata": {
  "kernelspec": {
   "display_name": "Python 3",
   "language": "python",
   "name": "python3"
  },
  "language_info": {
   "codemirror_mode": {
    "name": "ipython",
    "version": 3
   },
   "file_extension": ".py",
   "mimetype": "text/x-python",
   "name": "python",
   "nbconvert_exporter": "python",
   "pygments_lexer": "ipython3",
   "version": "3.8.2"
  }
 },
 "nbformat": 4,
 "nbformat_minor": 2
}
