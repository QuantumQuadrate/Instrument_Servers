{
 "cells": [
  {
   "cell_type": "code",
   "execution_count": 1,
   "metadata": {},
   "outputs": [],
   "source": [
    "# built-in \n",
    "import re\n",
    "import xml.etree.ElementTree as ET\n",
    "from ctypes import *\n",
    "from io import StringIO\n",
    "import csv\n",
    "import numpy as np\n",
    "\n",
    "# TODO: create requirements.txt for these\n",
    "from recordclass import recordclass as rc # for Trigger, Waveform types\n",
    "import numpy as np # for arrays\n",
    "from ctypes import c_uint32\n",
    "\n",
    "# local module imports\n",
    "from trigger import Trigger, StartTrigger\n",
    "from waveform import Waveform\n",
    "from analogout import AnalogOutput"
   ]
  },
  {
   "cell_type": "code",
   "execution_count": 2,
   "metadata": {},
   "outputs": [],
   "source": [
    "# to_pxi is a text file containing what is sent to the PXI from CsPy when \n",
    "# 'update settings' is clicked. \n",
    "\n",
    "# Each message is separated from the last by \"NEW MESSAGE\" \\n (added to \n",
    "# file as a message delimiter; not part of the xml string sent)\n",
    "\n",
    "# separate the text file into chunks of texts for each time\n",
    "# LabVIEW.send was called\n",
    "def msg_from_file(file=\"to_pxi.txt\"): # \n",
    "    msgs = []\n",
    "    with open(file) as f:\n",
    "        lines = f.readlines()\n",
    "        for line in lines:\n",
    "            if \"NEW MESSAGE\" in line:\n",
    "                msgs.append('')\n",
    "                continue\n",
    "            msgs[-1] += line\n",
    "    return msgs\n",
    "\n",
    "\n",
    "def print_txt(node):\n",
    "    print(f\"{node.tag} = {node.text}\")"
   ]
  },
  {
   "cell_type": "markdown",
   "metadata": {},
   "source": [
    "## Test waveform formatting for Analog Output"
   ]
  },
  {
   "cell_type": "code",
   "execution_count": 3,
   "metadata": {},
   "outputs": [
    {
     "name": "stdout",
     "output_type": "stream",
     "text": [
      "<Element 'LabView' at 0x0A36B500>\n",
      "Unrecognized XML tag 'version' in <AnalogOutput>\n"
     ]
    }
   ],
   "source": [
    "# get and load xml for analog output from the CsPy xml text file \n",
    "msg = msg_from_file()[0] \n",
    "root = ET.fromstring(msg)\n",
    "print(root)\n",
    "if root.tag != \"LabView\":\n",
    "    print(\"Not a valid msg for the pxi\")\n",
    "for child in root:\n",
    "    if child.tag == \"AnalogOutput\":\n",
    "        ao = AnalogOutput()\n",
    "        ao.load_xml(child)"
   ]
  },
  {
   "cell_type": "code",
   "execution_count": 4,
   "metadata": {},
   "outputs": [
    {
     "data": {
      "text/plain": [
       "(8, 42001)"
      ]
     },
     "execution_count": 4,
     "metadata": {},
     "output_type": "execute_result"
    }
   ],
   "source": [
    "ao.waveforms.shape"
   ]
  },
  {
   "cell_type": "code",
   "execution_count": null,
   "metadata": {},
   "outputs": [],
   "source": []
  },
  {
   "cell_type": "code",
   "execution_count": 5,
   "metadata": {
    "collapsed": true
   },
   "outputs": [
    {
     "name": "stdout",
     "output_type": "stream",
     "text": [
      "cols=10\n",
      "rows=8\n",
      "['-1.5', '-1.5', '-1.5', '-1.5', '-1.5', '-1.5', '-1.5', '-1.5', '-1.5', '-1.5'] 10 \n",
      "\n",
      "['', '', '', '', '', '', '', '', '-1.5', '-1.5', '-1.5', '-1.5', '-1.5', '-1.5', '-1.5', '-1.5', '-1.5', '-1.5', '-1.5'] 19 \n",
      "\n"
     ]
    },
    {
     "ename": "ValueError",
     "evalue": "cannot copy sequence with size 19 to array axis with dimension 10",
     "output_type": "error",
     "traceback": [
      "\u001b[1;31m---------------------------------------------------------------------------\u001b[0m",
      "\u001b[1;31mValueError\u001b[0m                                Traceback (most recent call last)",
      "\u001b[1;32m<ipython-input-5-b11efd76452a>\u001b[0m in \u001b[0;36m<module>\u001b[1;34m\u001b[0m\n\u001b[0;32m     33\u001b[0m     \u001b[1;32mfor\u001b[0m \u001b[0mi\u001b[0m\u001b[1;33m,\u001b[0m\u001b[0mrow\u001b[0m \u001b[1;32min\u001b[0m \u001b[0menumerate\u001b[0m\u001b[1;33m(\u001b[0m\u001b[0mreader\u001b[0m\u001b[1;33m)\u001b[0m\u001b[1;33m:\u001b[0m\u001b[1;33m\u001b[0m\u001b[1;33m\u001b[0m\u001b[0m\n\u001b[0;32m     34\u001b[0m         \u001b[0mprint\u001b[0m\u001b[1;33m(\u001b[0m\u001b[0mrow\u001b[0m\u001b[1;33m,\u001b[0m \u001b[0mlen\u001b[0m\u001b[1;33m(\u001b[0m\u001b[0mrow\u001b[0m\u001b[1;33m)\u001b[0m\u001b[1;33m,\u001b[0m\u001b[1;34m'\\n'\u001b[0m\u001b[1;33m)\u001b[0m\u001b[1;33m\u001b[0m\u001b[1;33m\u001b[0m\u001b[0m\n\u001b[1;32m---> 35\u001b[1;33m         \u001b[0mwave\u001b[0m\u001b[1;33m[\u001b[0m\u001b[0mi\u001b[0m\u001b[1;33m,\u001b[0m\u001b[1;33m:\u001b[0m\u001b[1;33m]\u001b[0m \u001b[1;33m=\u001b[0m \u001b[0mrow\u001b[0m\u001b[1;33m\u001b[0m\u001b[1;33m\u001b[0m\u001b[0m\n\u001b[0m\u001b[0;32m     36\u001b[0m \u001b[0mprint\u001b[0m\u001b[1;33m(\u001b[0m\u001b[0mwave\u001b[0m\u001b[1;33m)\u001b[0m\u001b[1;33m\u001b[0m\u001b[1;33m\u001b[0m\u001b[0m\n",
      "\u001b[1;31mValueError\u001b[0m: cannot copy sequence with size 19 to array axis with dimension 10"
     ]
    }
   ],
   "source": [
    "funky test text courtesy of stackoverflow\n",
    "scsv = \"\"\"example text with Polish non-Latin letters\n",
    "1 2 3 4 5 6\n",
    "a b c d e f\n",
    "gęś zółty wąż idzie wąską dróżką\n",
    "\"\"\"\n",
    "\n",
    "wstr = scsv\n",
    "\n",
    "# wstr = \"\"\"-1.5 -1.5 -1.5 -1.5 -1.5 -1.5 -1.5 -1.5 -1.5 -1.5\n",
    "#         -1.5 -1.5 -1.5 -1.5 -1.5 -1.5 -1.5 -1.5 -1.5 -1.5 -1.5\n",
    "#         -1.5 -1.5 -1.5 -1.5 -1.5 -1.5 -1.5 -1.5 -1.5 -1.5 -1.5 \n",
    "#         -1.5 -1.5 -1.5 -1.5 -1.5 -1.5 -1.5 -1.5 -1.5 -1.5 -1.5 \n",
    "#         -1.5 -1.5 -1.5 -1.5 -1.5 -1.5 -1.5 -1.5 -1.5 -1.5 -1.5 \n",
    "#         -1.5 -1.5 -1.5 -1.5 -1.5 -1.5 -1.5 -1.5 -1.5 -1.5 -1.5 \n",
    "#         -1.5 -1.5 -1.5 -1.5 -1.5 -1.5 -1.5 -1.5 -1.5 -1.5 -1.5 \n",
    "#         .5 -1.5 -1.5 -1.5 -1.5 -1.5 -1.5 -1.5 -1.5 -1.5 -1.5\"\"\" \n",
    "\n",
    "d = ' '\n",
    "with StringIO(wstr) as f:\n",
    "    reader = csv.reader(f, delimiter=d)\n",
    "    cols = len(next(reader))\n",
    "    print(f\"cols={cols}\")\n",
    "    try:\n",
    "        rows = sum([1 for row in reader]) + 1\n",
    "    except StopIteration:\n",
    "        rows = 1\n",
    "    print(f\"rows={rows}\")\n",
    "    wave = np.empty((rows, cols), str)\n",
    "    \n",
    "with StringIO(wstr) as f:\n",
    "    reader = csv.reader(f, delimiter=d)\n",
    "    for i,row in enumerate(reader):\n",
    "        print(row, len(row),'\\n')\n",
    "        wave[i,:] = row\n",
    "print(wave)"
   ]
  },
  {
   "cell_type": "code",
   "execution_count": 4,
   "metadata": {},
   "outputs": [
    {
     "data": {
      "text/plain": [
       "(4, 6)"
      ]
     },
     "execution_count": 4,
     "metadata": {},
     "output_type": "execute_result"
    }
   ],
   "source": [
    "wave.shape"
   ]
  },
  {
   "cell_type": "code",
   "execution_count": 12,
   "metadata": {},
   "outputs": [],
   "source": [
    "ExportTrigger = rc('ExportTrigger', ('a','b'))"
   ]
  },
  {
   "cell_type": "code",
   "execution_count": 13,
   "metadata": {},
   "outputs": [],
   "source": [
    "et = ExportTrigger(a=2, b=4)"
   ]
  },
  {
   "cell_type": "code",
   "execution_count": 14,
   "metadata": {},
   "outputs": [
    {
     "data": {
      "text/plain": [
       "ExportTrigger(a=2, b=4)"
      ]
     },
     "execution_count": 14,
     "metadata": {},
     "output_type": "execute_result"
    }
   ],
   "source": [
    "et"
   ]
  },
  {
   "cell_type": "code",
   "execution_count": 15,
   "metadata": {},
   "outputs": [],
   "source": [
    "et.a = 5"
   ]
  }
 ],
 "metadata": {
  "kernelspec": {
   "display_name": "Python 3",
   "language": "python",
   "name": "python3"
  },
  "language_info": {
   "codemirror_mode": {
    "name": "ipython",
    "version": 3
   },
   "file_extension": ".py",
   "mimetype": "text/x-python",
   "name": "python",
   "nbconvert_exporter": "python",
   "pygments_lexer": "ipython3",
   "version": "3.8.2"
  }
 },
 "nbformat": 4,
 "nbformat_minor": 2
}
