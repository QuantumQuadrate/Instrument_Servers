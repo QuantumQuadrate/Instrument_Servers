{
 "cells": [
  {
   "cell_type": "markdown",
   "metadata": {},
   "source": [
    "# analyzing XML sent from CsPy to LabVIEW server \n",
    "(and potentially vice versa)"
   ]
  },
  {
   "cell_type": "code",
   "execution_count": 29,
   "metadata": {},
   "outputs": [],
   "source": [
    "# built-in \n",
    "import re\n",
    "import xml.etree.ElementTree as ET\n",
    "\n",
    "# TODO: create requirements.txt for these\n",
    "from recordclass import recordclass as rc # for Trigger, Waveform types\n",
    "import numpy as np # for array, uint32, etc"
   ]
  },
  {
   "cell_type": "code",
   "execution_count": 12,
   "metadata": {},
   "outputs": [],
   "source": [
    "# to_pxi is a text file containing what is sent to the PXI from CsPy when \n",
    "# 'update settings' is clicked. \n",
    "\n",
    "# Each message is separated from the last by \"NEW MESSAGE\" \\n (added to \n",
    "# file as a message delimiter; not part of the xml string sent)\n",
    "\n",
    "# separate the text file into chunks of texts for each time\n",
    "# LabVIEW.send was called\n",
    "def msg_from_file(file=\"to_pxi.txt\"): # \n",
    "    msgs = []\n",
    "    with open(file) as f:\n",
    "        lines = f.readlines()\n",
    "        for line in lines:\n",
    "            if \"NEW MESSAGE\" in line:\n",
    "                msgs.append('')\n",
    "                continue\n",
    "            msgs[-1] += line\n",
    "    return msgs\n",
    "\n",
    "def xml_to_dict(xml, deep=True):\n",
    "    \"\"\"\n",
    "    'xml': str containing xml to parse, or xml.etree.ElementTree.Element\n",
    "    'deep': if True, search children of children\n",
    "    \"\"\"\n",
    "    xml_dict = {}\n",
    "    if type(xml) == str:\n",
    "        root = ET.fromstring(xml)\n",
    "    elif type(xml) == ET.Element:\n",
    "        root = xml\n",
    "    else: \n",
    "        print(\"not a valid input format\")\n",
    "        \n",
    "    for child in root:\n",
    "        xml_dict[child.tag] = {\n",
    "            'text': child.text,\n",
    "            'tail': child.tail,\n",
    "            'children': None\n",
    "        }\n",
    "        \n",
    "            \n",
    "        if deep and list(child):\n",
    "            xml_dict[child.tag]['children'] = xml_to_dict(child)\n",
    "\n",
    "    return xml_dict\n",
    "\n",
    "def print_txt(node):\n",
    "    print(f\"{node.tag} = {node.text}\")"
   ]
  },
  {
   "cell_type": "markdown",
   "metadata": {},
   "source": [
    "### Get the root from an XML string"
   ]
  },
  {
   "cell_type": "code",
   "execution_count": 3,
   "metadata": {},
   "outputs": [
    {
     "data": {
      "text/plain": [
       "<Element 'LabView' at 0x0000024B8E0B4F48>"
      ]
     },
     "execution_count": 3,
     "metadata": {},
     "output_type": "execute_result"
    }
   ],
   "source": [
    "msg = msg_from_file()[0]\n",
    "root = ET.fromstring(msg)\n",
    "# type(root) == ET.Element\n",
    "# list(root)\n",
    "root"
   ]
  },
  {
   "cell_type": "markdown",
   "metadata": {},
   "source": [
    "### Get a dict from the XML string"
   ]
  },
  {
   "cell_type": "code",
   "execution_count": 4,
   "metadata": {},
   "outputs": [
    {
     "data": {
      "text/plain": [
       "{'timeout': {'text': '15.0', 'tail': '\\n', 'children': None},\n",
       " 'AnalogOutput': {'text': None, 'tail': '\\n', 'children': None},\n",
       " 'AnalogInput': {'text': None, 'tail': '\\n', 'children': None},\n",
       " 'HSDIO': {'text': None, 'tail': '\\n', 'children': None},\n",
       " 'piezo': {'text': None, 'tail': None, 'children': None},\n",
       " 'RF_generators': {'text': None, 'tail': None, 'children': None},\n",
       " 'DAQmxDO': {'text': None, 'tail': None, 'children': None},\n",
       " 'camera': {'text': None, 'tail': None, 'children': None},\n",
       " 'TTL': {'text': None, 'tail': '\\n', 'children': None},\n",
       " 'Counters': {'text': None, 'tail': None, 'children': None},\n",
       " 'cycleContinuously': {'text': 'True', 'tail': '\\n', 'children': None}}"
      ]
     },
     "execution_count": 4,
     "metadata": {},
     "output_type": "execute_result"
    }
   ],
   "source": [
    "# the \"update settings\" xml, suppressing grandchildren\n",
    "xml_to_dict(msg, deep=False)"
   ]
  },
  {
   "cell_type": "code",
   "execution_count": 78,
   "metadata": {},
   "outputs": [],
   "source": [
    "# this does not suppress grandchildren. \n",
    "# warning: the waveform text is long!\n",
    "update_dict = xml_to_dict(msg) \n",
    "# update_dict"
   ]
  },
  {
   "cell_type": "markdown",
   "metadata": {},
   "source": [
    "### Look at specific elements:"
   ]
  },
  {
   "cell_type": "code",
   "execution_count": 79,
   "metadata": {
    "collapsed": true
   },
   "outputs": [
    {
     "data": {
      "text/plain": [
       "{'script': {'text': 'script script1\\ngenerate c1\\nwait 9990\\ngenerate w0xb6ba30000000040L\\nwait 40000\\ngenerate w0x3eba30000020040L\\nwait 50000\\ngenerate w0x3eba30000020040L\\nwait 40000\\ngenerate w0x3ebb30000020040L\\nwait 10000\\ngenerate w0x3eba30000000040L\\nwait 50000\\ngenerate w0x3eba30000000040L\\nwait 50000\\ngenerate w0xb6ba30000000040L\\nwait 750000\\ngenerate w0xb6ba78200008040L\\nwait 210000\\ngenerate w0xb6ba78200008000L\\nwait 90000\\ngenerate w0xb6ba30000008000L\\nwait 100000\\ngenerate w0xb6ba38000008000L\\nwait 100000\\ngenerate w0xb6bb38000000000L\\nwait 100000\\ngenerate w0xb6ba30000000000L\\nwait 4400000\\ngenerate w0x1beba30000000000L\\nwait 3500000\\ngenerate w0x1bebab0000000000L\\nwait 500000\\ngenerate w0x3faaa30000000000L\\nwait 3000000\\ngenerate c2\\nwait 999990\\ngenerate c3\\nwait 12\\nrepeat 1249\\ngenerate c4\\nend repeat\\ngenerate c5\\nrepeat 4999\\ngenerate c6\\nend repeat\\ngenerate c7\\ngenerate c8\\ngenerate c9\\ngenerate c10\\nwait 82\\ngenerate w0x66aaa30000000000L\\nwait 99900\\ngenerate c11\\nwait 38\\nrepeat 1999\\ngenerate c12\\nend repeat\\ngenerate c13\\nrepeat 500\\ngenerate c14\\nend repeat\\ngenerate c15\\nwait 52\\ngenerate c16\\nwait 9880\\ngenerate w0x26baa30000010000L\\nwait 890000\\ngenerate w0x26baa30000000000L\\nwait 1000000\\ngenerate w0x24aaa30000000000L\\nwait 10\\nrepeat 3999\\ngenerate c17\\nend repeat\\ngenerate c18\\ngenerate c19\\nwait 199990\\ngenerate w0x26bea30000000000L\\nwait 18000\\ngenerate w0x26b6a30000000000L\\nwait 44000\\ngenerate w0x26b4a30000000000L\\nwait 748000\\ngenerate w0x26b6a30000000000L\\nwait 50000\\ngenerate w0x26bea30000000000L\\nwait 37000\\ngenerate w0x26baa30000000000L\\nwait 103000\\ngenerate c20\\nwait 1899990\\ngenerate c21\\nwait 12\\nrepeat 6249\\ngenerate c22\\nend repeat\\ngenerate c23\\ngenerate c24\\nwait 499982\\ngenerate w0x6ebaab0000000000L\\nwait 100000\\ngenerate w0x6ebaab2000000000L\\nwait 1000\\ngenerate w0x6ebaab0000000000L\\nwait 399000\\ngenerate w0x6ebaa30000000000L\\nwait 2\\nend script',\n",
       "  'tail': '\\n',\n",
       "  'children': None},\n",
       " 'waveforms': {'text': None,\n",
       "  'tail': '\\n',\n",
       "  'children': {'waveform': {'text': None,\n",
       "    'tail': None,\n",
       "    'children': {'states': {'text': '0 1 1 0 1 1 1 0 1 0 1 1 1 0 1 0 1 0 1 0 0 0 1 1 0 0 0 0 0 0 0 0 0 0 0 0 0 0 0 0 0 0 0 0 0 0 0 0 0 0 0 0 0 0 0 0 0 0 0 0 0 0 0 0\\n0 1 1 0 1 1 1 0 1 0 1 1 1 0 1 0 1 0 1 0 0 0 1 1 0 0 0 0 0 0 0 0 0 0 0 0 0 0 0 0 0 0 0 0 0 0 0 0 0 0 0 0 0 0 0 0 0 0 0 0 0 0 0 0',\n",
       "      'tail': None,\n",
       "      'children': None},\n",
       "     'transitions': {'text': '0 1', 'tail': None, 'children': None},\n",
       "     'name': {'text': 'w0x6ebaa30000000000L',\n",
       "      'tail': None,\n",
       "      'children': None}}}}},\n",
       " 'enable': {'text': 'True', 'tail': '\\n', 'children': None},\n",
       " 'version': {'text': '2015.05.24', 'tail': '\\n', 'children': None},\n",
       " 'resourceName': {'text': 'HSDIO,HSDIO2', 'tail': '\\n', 'children': None},\n",
       " 'clockRate': {'text': '100000000.0', 'tail': '\\n', 'children': None},\n",
       " 'hardwareAlignmentQuantum': {'text': '2', 'tail': '\\n', 'children': None},\n",
       " 'triggers': {'text': None, 'tail': '\\n', 'children': None},\n",
       " 'InitialState': {'text': 'XXXXXXXXXXXXXXXXXXXXXXXXXXXXXXXX,XXXXXXXXXXXXXXXXXXXXXXXXXXXXXXXX',\n",
       "  'tail': '\\n',\n",
       "  'children': None},\n",
       " 'IdleState': {'text': 'XXXXXXXXXXXXXXXXXXXXXXXXXXXXXXXX,XXXXXXXXXXXXXXXXXXXXXXXXXXXXXXXX',\n",
       "  'tail': '\\n',\n",
       "  'children': None},\n",
       " 'ActiveChannels': {'text': '0,1,2,3,4,5,6,7,8,9,10,11,12,13,14,15,16,17,18,19,20,21,22,23,24,25,26,27,28,29,30,31\\n0,1,2,3,4,5,6,7,8,9,10,11,12,13,14,15,16,17,18,19,20,21,22,23,24,25,26,27,28,29,30,31',\n",
       "  'tail': '\\n',\n",
       "  'children': None},\n",
       " 'startTrigger': {'text': None,\n",
       "  'tail': '\\n',\n",
       "  'children': {'waitForStartTrigger': {'text': 'True',\n",
       "    'tail': '\\n',\n",
       "    'children': None},\n",
       "   'source': {'text': '/AO/PXI_Trig0', 'tail': '\\n', 'children': None},\n",
       "   'edge': {'text': 'rising', 'tail': '\\n', 'children': None}}}}"
      ]
     },
     "execution_count": 79,
     "metadata": {},
     "output_type": "execute_result"
    }
   ],
   "source": [
    "update_dict['HSDIO']['children']"
   ]
  },
  {
   "cell_type": "markdown",
   "metadata": {},
   "source": [
    "## Reproduce XML parsing for the HSDIO\n",
    " * Get the root from a string\n",
    " * cycle through children to find the HSDIO tag\n",
    " * mimic the LabVIEW code for dealing with this tag\n",
    " * ultimately have string ready to be passed as input to the functions for triggering and writing to PC memory\n",
    " \n",
    "### TODO: \n",
    " * once i have code to fully parse string for HSDIO, build the methods into hsdio.py so this can be imported as a module testing, e.g. so Juan could get args to pass to c functions\n",
    " * use array or numpy array types in place of python lists where applicable\n",
    " * figure out how to convert a string to uint32 for trigger stuff"
   ]
  },
  {
   "cell_type": "code",
   "execution_count": 3,
   "metadata": {},
   "outputs": [],
   "source": [
    "msg = msg_from_file()[0] "
   ]
  },
  {
   "cell_type": "code",
   "execution_count": 4,
   "metadata": {},
   "outputs": [
    {
     "name": "stdout",
     "output_type": "stream",
     "text": [
      "<Element 'LabView' at 0x06653910>\n"
     ]
    }
   ],
   "source": [
    "# find the root:\n",
    "root = ET.fromstring(msg)\n",
    "print(root)\n",
    "if root.tag != \"LabView\":\n",
    "    print(\"Not a valid msg for the pxi\")"
   ]
  },
  {
   "cell_type": "code",
   "execution_count": null,
   "metadata": {},
   "outputs": [],
   "source": [
    "# hsdio specific functions/types. will go into hsdio.py\n",
    "\n",
    "Trigger = rc(\"Trigger\", \"id source type edge level\")\n",
    "Wavefrom = rc(\"Waveform\", \"name states transitions\")"
   ]
  },
  {
   "cell_type": "code",
   "execution_count": 17,
   "metadata": {
    "collapsed": true
   },
   "outputs": [
    {
     "name": "stdout",
     "output_type": "stream",
     "text": [
      "script = script script1\n",
      "generate c1\n",
      "wait 9990\n",
      "generate w0xb6ba30000000040L\n",
      "wait 40000\n",
      "generate w0x3eba30000020040L\n",
      "wait 50000\n",
      "generate w0x3eba30000020040L\n",
      "wait 40000\n",
      "generate w0x3ebb30000020040L\n",
      "wait 10000\n",
      "generate w0x3eba30000000040L\n",
      "wait 50000\n",
      "generate w0x3eba30000000040L\n",
      "wait 50000\n",
      "generate w0xb6ba30000000040L\n",
      "wait 750000\n",
      "generate w0xb6ba78200008040L\n",
      "wait 210000\n",
      "generate w0xb6ba78200008000L\n",
      "wait 90000\n",
      "generate w0xb6ba30000008000L\n",
      "wait 100000\n",
      "generate w0xb6ba38000008000L\n",
      "wait 100000\n",
      "generate w0xb6bb38000000000L\n",
      "wait 100000\n",
      "generate w0xb6ba30000000000L\n",
      "wait 4400000\n",
      "generate w0x1beba30000000000L\n",
      "wait 3500000\n",
      "generate w0x1bebab0000000000L\n",
      "wait 500000\n",
      "generate w0x3faaa30000000000L\n",
      "wait 3000000\n",
      "generate c2\n",
      "wait 999990\n",
      "generate c3\n",
      "wait 12\n",
      "repeat 1249\n",
      "generate c4\n",
      "end repeat\n",
      "generate c5\n",
      "repeat 4999\n",
      "generate c6\n",
      "end repeat\n",
      "generate c7\n",
      "generate c8\n",
      "generate c9\n",
      "generate c10\n",
      "wait 82\n",
      "generate w0x66aaa30000000000L\n",
      "wait 99900\n",
      "generate c11\n",
      "wait 38\n",
      "repeat 1999\n",
      "generate c12\n",
      "end repeat\n",
      "generate c13\n",
      "repeat 500\n",
      "generate c14\n",
      "end repeat\n",
      "generate c15\n",
      "wait 52\n",
      "generate c16\n",
      "wait 9880\n",
      "generate w0x26baa30000010000L\n",
      "wait 890000\n",
      "generate w0x26baa30000000000L\n",
      "wait 1000000\n",
      "generate w0x24aaa30000000000L\n",
      "wait 10\n",
      "repeat 3999\n",
      "generate c17\n",
      "end repeat\n",
      "generate c18\n",
      "generate c19\n",
      "wait 199990\n",
      "generate w0x26bea30000000000L\n",
      "wait 18000\n",
      "generate w0x26b6a30000000000L\n",
      "wait 44000\n",
      "generate w0x26b4a30000000000L\n",
      "wait 748000\n",
      "generate w0x26b6a30000000000L\n",
      "wait 50000\n",
      "generate w0x26bea30000000000L\n",
      "wait 37000\n",
      "generate w0x26baa30000000000L\n",
      "wait 103000\n",
      "generate c20\n",
      "wait 1899990\n",
      "generate c21\n",
      "wait 12\n",
      "repeat 6249\n",
      "generate c22\n",
      "end repeat\n",
      "generate c23\n",
      "generate c24\n",
      "wait 499982\n",
      "generate w0x6ebaab0000000000L\n",
      "wait 100000\n",
      "generate w0x6ebaab2000000000L\n",
      "wait 1000\n",
      "generate w0x6ebaab0000000000L\n",
      "wait 399000\n",
      "generate w0x6ebaa30000000000L\n",
      "wait 2\n",
      "end script\n",
      "enable = True\n",
      "resourceName = HSDIO,HSDIO2\n",
      "clockRate = 100000000.0\n",
      "hardwareAlignmentQuantum = 2\n",
      "triggers = None\n",
      "InitialState = XXXXXXXXXXXXXXXXXXXXXXXXXXXXXXXX,XXXXXXXXXXXXXXXXXXXXXXXXXXXXXXXX\n",
      "IdleState = XXXXXXXXXXXXXXXXXXXXXXXXXXXXXXXX,XXXXXXXXXXXXXXXXXXXXXXXXXXXXXXXX\n",
      "ActiveChannels = 0,1,2,3,4,5,6,7,8,9,10,11,12,13,14,15,16,17,18,19,20,21,22,23,24,25,26,27,28,29,30,31\n",
      "0,1,2,3,4,5,6,7,8,9,10,11,12,13,14,15,16,17,18,19,20,21,22,23,24,25,26,27,28,29,30,31\n",
      "startTrigger = None\n"
     ]
    }
   ],
   "source": [
    "for child in root:\n",
    "    if child.tag == \"HSDIO\":\n",
    "        \n",
    "        # wrap this block in HSDIO.load_xml\n",
    "        hsdio_nodes = child\n",
    "        for child in hsdio_nodes:\n",
    "            \n",
    "            # the LabView code ignores non-element nodes. not sure if this equivalent\n",
    "            if type(child) == ET.Element:\n",
    "                \n",
    "                # handle each tag by name:\n",
    "                #if child.tag == \"version\": # looks like this hasn't been used since 2015\n",
    "\n",
    "                if child.tag == \"enable\":\n",
    "                    print_txt(child)\n",
    "                    #hsdio.enablePulses = bool(child.text)\n",
    "                    pass\n",
    "                \n",
    "                elif child.tag == \"description\":\n",
    "                    print_txt(child)\n",
    "                    #hsdio.description = child.text\n",
    "                    pass\n",
    "                \n",
    "                elif child.tag == \"resourceName\":\n",
    "                    print_txt(child)\n",
    "                    resources = child.text.split(\",\")\n",
    "                    #hsdio.resourceNames = resources\n",
    "                    \n",
    "                elif child.tag == \"clockRate\":\n",
    "                    clockRate = float(child.text)\n",
    "                    print_txt(child)\n",
    "                    #hsdio.clockRate = clockRate\n",
    "                elif child.tag == \"hardwareAlignmentQuantum\":\n",
    "                    print_txt(child)\n",
    "                    #hsdio.hardwareAlignmentQuantum = child.text\n",
    "                    pass  \n",
    "                \n",
    "                elif child.tag == \"triggers\":\n",
    "                    print_txt(child)\n",
    "                    \n",
    "                    if type(child) == ET.Element:\n",
    "                        \n",
    "                        trigger_node = node\n",
    "                        \n",
    "                        # for each line of script triggers\n",
    "                        for child in trigger_node:\n",
    "                            if type(child) == ET.Element:\n",
    "                                \n",
    "                                trig = Trigger()\n",
    "                                \n",
    "                                if child.tag == \"id\": \n",
    "                                    trig.id = child.text # script trigger 0\n",
    "                                    \n",
    "                                elif child.tag == \"source\":\n",
    "                                    trig.source = child.text # PFI 0\n",
    "                                \n",
    "                                elif child.tag == \"type\":\n",
    "                         \n",
    "                                    if child.text == \"level\":\n",
    "                                        #TODO see how to convert this\n",
    "                                        #trig.type = u32(\"level\") \n",
    "                                        pass\n",
    "                                    \n",
    "                                    else:\n",
    "                                        #TODO see how to convert this\n",
    "                                        #trig.type = u32(\"edge\") \n",
    "                                        pass\n",
    "                                    \n",
    "                                elif child.tag == \"edge\":\n",
    "                                                                        \n",
    "                                    if child.text == \"Falling Edge\":\n",
    "                                        #TODO see how to convert this\n",
    "                                        #trig.edge = u32(\"Falling Edge\") \n",
    "                                        pass\n",
    "                                    \n",
    "                                    else:\n",
    "                                        #TODO see how to convert this\n",
    "                                        #trig.edge = u32(\"Rising Edge\") \n",
    "                                        pass\n",
    "                                    \n",
    "                                elif child.tag == \"level\":\n",
    "                                    \n",
    "                                    if child.text == \"Low Level\":\n",
    "                                        #TODO see how to convert this\n",
    "                                        #trig.level = u32(\"Low Level\") \n",
    "                                        pass\n",
    "                                    \n",
    "                                    else: \n",
    "                                        #TODO see how to convert this\n",
    "                                        #trig.edge = u32(\"High Level\") \n",
    "                                        pass\n",
    "                                \n",
    "                                hsdio.scriptTriggerArr.append(trig)\n",
    "                            \n",
    "                elif child.tag == \"waveform\":\n",
    "#                     print_txt(child) # HUGE STRING PLZ BE CAREFUL\n",
    "\n",
    "                    wvforms_node = child\n",
    "                    wvform = Waveform() \n",
    "    \n",
    "                    # for each waveform\n",
    "                    for wvf_child in wvforms_node:\n",
    "                \n",
    "                        # this overwrites wvform's attrs every iteration, and\n",
    "                        # it looks like LabVIEW does that.. check tmrw (Apr. 1)\n",
    "                        if type(wfm_child) == ET.Element:\n",
    "                        \n",
    "                            # wrap in load_waveform function\n",
    "                            for child in wvf_child:\n",
    "                                \n",
    "                                if child.tag = \"name\":\n",
    "                                    wvform.name = child.text\n",
    "                                    \n",
    "                                elif child.tag = \"transitions\":\n",
    "                                    t = np.array([x for x in states.split(\" \")], \n",
    "                                                 dtype=np.uint8)\n",
    "                                    wvform.transitions = t\n",
    "                                \n",
    "                                elif child.tag = \"states\":\n",
    "#                                     wvform.name = \n",
    "                                    pass\n",
    "                                \n",
    "                                else:\n",
    "                                    print() # TODO: replace with logger\n",
    "\n",
    "\n",
    "                elif child.tag == \"script\":\n",
    "                    print_txt(child)\n",
    "                    pass\n",
    "            \n",
    "                elif child.tag == \"startTrigger\":\n",
    "                    print_txt(child)\n",
    "                    pass      \n",
    "                \n",
    "                elif child.tag == \"InitialState\":\n",
    "                    print_txt(child)\n",
    "                    pass\n",
    "                \n",
    "                elif child.tag == \"IdleState\":\n",
    "                    print_txt(child)\n",
    "                    pass      \n",
    "                \n",
    "                elif child.tag == \"ActiveChannels\":\n",
    "                    print_txt(child)\n",
    "                    pass\n",
    "                \n",
    "                else:\n",
    "                    pass\n",
    "                \n",
    "                "
   ]
  },
  {
   "cell_type": "code",
   "execution_count": 21,
   "metadata": {},
   "outputs": [
    {
     "data": {
      "text/plain": [
       "64"
      ]
     },
     "execution_count": 21,
     "metadata": {},
     "output_type": "execute_result"
    }
   ],
   "source": [
    "len(\"0 0 1 1 1 1 1 1 0 0 1 0 1 0 1 0 1 0 1 0 0 0 1 1 0 0 0 0 0 0 0 0 0 0 0 0 0 0 0 0 0 0 0 0 0 0 0 1 0 0 0 0 0 0 0 0 0 0 0 0 0 0 0 0\".split(\" \"))"
   ]
  },
  {
   "cell_type": "code",
   "execution_count": 28,
   "metadata": {},
   "outputs": [
    {
     "data": {
      "text/plain": [
       "array([0, 1, 0, 1, 0, 0], dtype=uint8)"
      ]
     },
     "execution_count": 28,
     "metadata": {},
     "output_type": "execute_result"
    }
   ],
   "source": [
    "states = \"0 1 0 1 0 0\"\n",
    "np.array([x for x in states.split(\" \")], dtype=np.uint8)"
   ]
  },
  {
   "cell_type": "code",
   "execution_count": null,
   "metadata": {},
   "outputs": [],
   "source": []
  }
 ],
 "metadata": {
  "kernelspec": {
   "display_name": "Python 3",
   "language": "python",
   "name": "python3"
  },
  "language_info": {
   "codemirror_mode": {
    "name": "ipython",
    "version": 3
   },
   "file_extension": ".py",
   "mimetype": "text/x-python",
   "name": "python",
   "nbconvert_exporter": "python",
   "pygments_lexer": "ipython3",
   "version": "3.8.2"
  }
 },
 "nbformat": 4,
 "nbformat_minor": 2
}
