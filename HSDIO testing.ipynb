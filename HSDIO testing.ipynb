{
 "cells": [
  {
   "cell_type": "markdown",
   "metadata": {},
   "source": [
    "# Programming Flow\n",
    "## Initialize Session:\n",
    "Opens communication with device. \n",
    "\n",
    "Relevant  c function : *niHSDIO_InitGenerationSession*\n",
    "\n",
    "http://zone.ni.com/reference/en-XX/help/370520P-01/hsdiocref/cvinihsdio_initgenerationsession/ \n",
    "\n",
    "## Select Channels:\n",
    "Assign either dynamic or static channels:\n",
    "Any mix of dynamic/static generation and dynamic/static acquisition is good. \n",
    "\n",
    "__Def Static generation__ : \n",
    "Static generation places a single pattern on the configured channels. Static generation, like static acquisition, is controlled by software and does not use hardware timing.\n",
    "\n",
    "Because a function call is required for each data point generated, static generation is generally used only for single-point or low-speed applications. Static generation can be helpful in system and cable debugging, DC-level semiconductor testing, and many other applications.\n",
    "\n",
    "Static generation is also called immediate, unstrobed, or nonlatched generation.\n",
    "\n",
    "__Def Dynamic generation__ : \n",
    "Dynamic generation is a clocked operation where binary data is sent from the NI device to the DUT (device under test, I belive this is the black box that serves as a breakout) across multiple digital channels. The data can be generated based on complex scripts, and it can react to triggers, generate markers, and be shifted in time with respect to the generating clock. \n",
    "\n",
    "For NI 6541/6542 devices Dynamic Generation is only supported in Active Drive mode.\n",
    "\n",
    "__Conclusion__ From the above, it seems we want to set up our output channels to use dynamic generation, so we can script the timing, rather than rely on precise timing in python. It would apprear that this can be best implemented using \"scripts\" (as specifically defined in the NI documentation) for our use case.\n",
    "\n",
    "relevant c function : \n",
    "*niHSDIO_AssignDynamicChannels*\n",
    "http://zone.ni.com/reference/en-XX/help/370520P-01/hsdiocref/cvinihsdio_assigndynamicchannels/"
   ]
  },
  {
   "cell_type": "markdown",
   "metadata": {},
   "source": [
    "## Configure Hardware:\n",
    "Use Configuration VIs and functions to set up the triggers, voltage levels, and other settings and features needed for your data operation.\n",
    "\n",
    "### Configure Sample Clock\n",
    "niHSDIO_ConfigureSampleClock\n",
    "The Sample clock is the primary timebase for the digital waveform generator/analyzer. This clock controls the rate at which samples are acquired or generated. Each period of the Sample clock is capable of initiating the acquisition or generation of one sample per channel.\n",
    "\n",
    "**Options**:\n",
    "* OnBoardClock : On board clock\n",
    "* ClkIn : Use signal at front panel CLK IN connector\n",
    "* PXI_STAR : use PXI_STAR ignal on the PXI backplane, usable only by PXI devices other than those in Slot 2\n",
    "* STROBE : Uses clock present at STROBE channel of the DDC connector. Only valid for acquisition sessions"
   ]
  },
  {
   "cell_type": "markdown",
   "metadata": {},
   "source": [
    "## Waveforms\n",
    "Multiple waveforms can be saved to NI device memory (64ms?). We may be able to write our waveforms to this memory directly using one of the *niHISDIO_WriteNamedWaveform___* functions to write the waveforms from PC memory to device memory.\n",
    "\n",
    "If our device memory is too small to support our current functional waveforms (or some waveforms some amount larger) we'll try to make use of streaming the waveforms."
   ]
  },
  {
   "cell_type": "code",
   "execution_count": 1,
   "metadata": {},
   "outputs": [],
   "source": [
    "import numpy as np\n",
    "import os\n",
    "from ctypes import *"
   ]
  },
  {
   "cell_type": "code",
   "execution_count": 2,
   "metadata": {},
   "outputs": [],
   "source": [
    "ivi32_path = \"C:\\Program Files (x86)\\IVI Foundation\\IVI\"\n",
    "ivi32_bin = os.path.join(ivi32_path,\"Bin\")\n",
    "ivi32_include = os.path.join(ivi32_path,\"Include\")"
   ]
  },
  {
   "cell_type": "code",
   "execution_count": 3,
   "metadata": {},
   "outputs": [],
   "source": [
    "hsdio = CDLL(os.path.join(ivi32_bin,\"niHSDIO.dll\"))"
   ]
  },
  {
   "cell_type": "code",
   "execution_count": 4,
   "metadata": {},
   "outputs": [
    {
     "ename": "AttributeError",
     "evalue": "function 'NIHSDIO_VAL_ON_BOARD_CLOCK_STR' not found",
     "output_type": "error",
     "traceback": [
      "\u001b[1;31m---------------------------------------------------------------------------\u001b[0m",
      "\u001b[1;31mAttributeError\u001b[0m                            Traceback (most recent call last)",
      "\u001b[1;32m<ipython-input-4-816ad15a9e1c>\u001b[0m in \u001b[0;36m<module>\u001b[1;34m\u001b[0m\n\u001b[1;32m----> 1\u001b[1;33m \u001b[0mhsdio\u001b[0m\u001b[1;33m.\u001b[0m\u001b[0mNIHSDIO_VAL_ON_BOARD_CLOCK_STR\u001b[0m\u001b[1;33m\u001b[0m\u001b[1;33m\u001b[0m\u001b[0m\n\u001b[0m",
      "\u001b[1;32mc:\\users\\juan\\appdata\\local\\programs\\python\\python38-32\\lib\\ctypes\\__init__.py\u001b[0m in \u001b[0;36m__getattr__\u001b[1;34m(self, name)\u001b[0m\n\u001b[0;32m    384\u001b[0m         \u001b[1;32mif\u001b[0m \u001b[0mname\u001b[0m\u001b[1;33m.\u001b[0m\u001b[0mstartswith\u001b[0m\u001b[1;33m(\u001b[0m\u001b[1;34m'__'\u001b[0m\u001b[1;33m)\u001b[0m \u001b[1;32mand\u001b[0m \u001b[0mname\u001b[0m\u001b[1;33m.\u001b[0m\u001b[0mendswith\u001b[0m\u001b[1;33m(\u001b[0m\u001b[1;34m'__'\u001b[0m\u001b[1;33m)\u001b[0m\u001b[1;33m:\u001b[0m\u001b[1;33m\u001b[0m\u001b[1;33m\u001b[0m\u001b[0m\n\u001b[0;32m    385\u001b[0m             \u001b[1;32mraise\u001b[0m \u001b[0mAttributeError\u001b[0m\u001b[1;33m(\u001b[0m\u001b[0mname\u001b[0m\u001b[1;33m)\u001b[0m\u001b[1;33m\u001b[0m\u001b[1;33m\u001b[0m\u001b[0m\n\u001b[1;32m--> 386\u001b[1;33m         \u001b[0mfunc\u001b[0m \u001b[1;33m=\u001b[0m \u001b[0mself\u001b[0m\u001b[1;33m.\u001b[0m\u001b[0m__getitem__\u001b[0m\u001b[1;33m(\u001b[0m\u001b[0mname\u001b[0m\u001b[1;33m)\u001b[0m\u001b[1;33m\u001b[0m\u001b[1;33m\u001b[0m\u001b[0m\n\u001b[0m\u001b[0;32m    387\u001b[0m         \u001b[0msetattr\u001b[0m\u001b[1;33m(\u001b[0m\u001b[0mself\u001b[0m\u001b[1;33m,\u001b[0m \u001b[0mname\u001b[0m\u001b[1;33m,\u001b[0m \u001b[0mfunc\u001b[0m\u001b[1;33m)\u001b[0m\u001b[1;33m\u001b[0m\u001b[1;33m\u001b[0m\u001b[0m\n\u001b[0;32m    388\u001b[0m         \u001b[1;32mreturn\u001b[0m \u001b[0mfunc\u001b[0m\u001b[1;33m\u001b[0m\u001b[1;33m\u001b[0m\u001b[0m\n",
      "\u001b[1;32mc:\\users\\juan\\appdata\\local\\programs\\python\\python38-32\\lib\\ctypes\\__init__.py\u001b[0m in \u001b[0;36m__getitem__\u001b[1;34m(self, name_or_ordinal)\u001b[0m\n\u001b[0;32m    389\u001b[0m \u001b[1;33m\u001b[0m\u001b[0m\n\u001b[0;32m    390\u001b[0m     \u001b[1;32mdef\u001b[0m \u001b[0m__getitem__\u001b[0m\u001b[1;33m(\u001b[0m\u001b[0mself\u001b[0m\u001b[1;33m,\u001b[0m \u001b[0mname_or_ordinal\u001b[0m\u001b[1;33m)\u001b[0m\u001b[1;33m:\u001b[0m\u001b[1;33m\u001b[0m\u001b[1;33m\u001b[0m\u001b[0m\n\u001b[1;32m--> 391\u001b[1;33m         \u001b[0mfunc\u001b[0m \u001b[1;33m=\u001b[0m \u001b[0mself\u001b[0m\u001b[1;33m.\u001b[0m\u001b[0m_FuncPtr\u001b[0m\u001b[1;33m(\u001b[0m\u001b[1;33m(\u001b[0m\u001b[0mname_or_ordinal\u001b[0m\u001b[1;33m,\u001b[0m \u001b[0mself\u001b[0m\u001b[1;33m)\u001b[0m\u001b[1;33m)\u001b[0m\u001b[1;33m\u001b[0m\u001b[1;33m\u001b[0m\u001b[0m\n\u001b[0m\u001b[0;32m    392\u001b[0m         \u001b[1;32mif\u001b[0m \u001b[1;32mnot\u001b[0m \u001b[0misinstance\u001b[0m\u001b[1;33m(\u001b[0m\u001b[0mname_or_ordinal\u001b[0m\u001b[1;33m,\u001b[0m \u001b[0mint\u001b[0m\u001b[1;33m)\u001b[0m\u001b[1;33m:\u001b[0m\u001b[1;33m\u001b[0m\u001b[1;33m\u001b[0m\u001b[0m\n\u001b[0;32m    393\u001b[0m             \u001b[0mfunc\u001b[0m\u001b[1;33m.\u001b[0m\u001b[0m__name__\u001b[0m \u001b[1;33m=\u001b[0m \u001b[0mname_or_ordinal\u001b[0m\u001b[1;33m\u001b[0m\u001b[1;33m\u001b[0m\u001b[0m\n",
      "\u001b[1;31mAttributeError\u001b[0m: function 'NIHSDIO_VAL_ON_BOARD_CLOCK_STR' not found"
     ]
    }
   ],
   "source": [
    "hsdio.NIHSDIO_VAL_ON_BOARD_CLOCK_STR"
   ]
  },
  {
   "cell_type": "code",
   "execution_count": 11,
   "metadata": {},
   "outputs": [
    {
     "name": "stdout",
     "output_type": "stream",
     "text": [
      "b'Dev1'\n"
     ]
    }
   ],
   "source": [
    "dev_adr = \"Dev1\"\n",
    "cdev_adr = c_char_p(dev_adr.encode('utf-8'))\n",
    "print(cdev_adr.value)\n",
    "id_q = c_bool(1)\n",
    "rst_int = c_bool(1)\n",
    "opt_str = c_char_p(\"\".encode('utf-8'))\n",
    "vi = c_int(0)\n",
    "err_c = hsdio.niHSDIO_InitGenerationSession(cdev_adr,id_q,rst_int,opt_str,byref(vi))"
   ]
  },
  {
   "cell_type": "code",
   "execution_count": 15,
   "metadata": {},
   "outputs": [
    {
     "name": "stdout",
     "output_type": "stream",
     "text": [
      "-1073807343\n",
      "<class 'int'>\n",
      "c_long(-1073807343)\n"
     ]
    }
   ],
   "source": [
    "print(err_c )\n",
    "print(type(err_c) )\n",
    "print(c_int32(err_c) )"
   ]
  },
  {
   "cell_type": "code",
   "execution_count": null,
   "metadata": {
    "scrolled": true
   },
   "outputs": [],
   "source": [
    "import struct\n",
    "print(struct.calcsize(\"P\")*8)"
   ]
  },
  {
   "cell_type": "code",
   "execution_count": null,
   "metadata": {},
   "outputs": [],
   "source": [
    "class vi_int32():\n",
    "    def __init__(val):\n",
    "        self.act = c_int32(val)\n",
    "        self.value = self.act.value\n",
    "    "
   ]
  },
  {
   "cell_type": "code",
   "execution_count": null,
   "metadata": {},
   "outputs": [],
   "source": [
    "help(c_int)"
   ]
  },
  {
   "cell_type": "code",
   "execution_count": null,
   "metadata": {},
   "outputs": [],
   "source": []
  }
 ],
 "metadata": {
  "kernelspec": {
   "display_name": "Python 3",
   "language": "python",
   "name": "python3"
  },
  "language_info": {
   "codemirror_mode": {
    "name": "ipython",
    "version": 3
   },
   "file_extension": ".py",
   "mimetype": "text/x-python",
   "name": "python",
   "nbconvert_exporter": "python",
   "pygments_lexer": "ipython3",
   "version": "3.8.2"
  }
 },
 "nbformat": 4,
 "nbformat_minor": 4
}
