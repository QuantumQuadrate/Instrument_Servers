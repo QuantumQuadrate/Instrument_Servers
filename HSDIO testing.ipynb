{
 "cells": [
  {
   "cell_type": "markdown",
   "metadata": {},
   "source": [
    "# Programming Flow\n",
    "## Initialize Session:\n",
    "Opens communication with device. \n",
    "\n",
    "Relevant  c function : *niHSDIO_InitGenerationSession*\n",
    "\n",
    "http://zone.ni.com/reference/en-XX/help/370520P-01/hsdiocref/cvinihsdio_initgenerationsession/ \n",
    "\n",
    "## Select Channels:\n",
    "Assign either dynamic or static channels:\n",
    "Any mix of dynamic/static generation and dynamic/static acquisition is good. \n",
    "\n",
    "__Def Static generation__ : \n",
    "Static generation places a single pattern on the configured channels. Static generation, like static acquisition, is controlled by software and does not use hardware timing.\n",
    "\n",
    "Because a function call is required for each data point generated, static generation is generally used only for single-point or low-speed applications. Static generation can be helpful in system and cable debugging, DC-level semiconductor testing, and many other applications.\n",
    "\n",
    "Static generation is also called immediate, unstrobed, or nonlatched generation.\n",
    "\n",
    "__Def Dynamic generation__ : \n",
    "Dynamic generation is a clocked operation where binary data is sent from the NI device to the DUT (device under test, I belive this is the black box that serves as a breakout) across multiple digital channels. The data can be generated based on complex scripts, and it can react to triggers, generate markers, and be shifted in time with respect to the generating clock. \n",
    "\n",
    "For NI 6541/6542 devices Dynamic Generation is only supported in Active Drive mode.\n",
    "\n",
    "__Conclusion__ From the above, it seems we want to set up our output channels to use dynamic generation, so we can script the timing, rather than rely on precise timing in python. It would apprear that this can be best implemented using \"scripts\" (as specifically defined in the NI documentation) for our use case.\n",
    "\n",
    "relevant c function : \n",
    "*niHSDIO_AssignDynamicChannels*\n",
    "http://zone.ni.com/reference/en-XX/help/370520P-01/hsdiocref/cvinihsdio_assigndynamicchannels/"
   ]
  },
  {
   "cell_type": "markdown",
   "metadata": {},
   "source": [
    "## Configure Hardware:\n",
    "Use Configuration VIs and functions to set up the triggers, voltage levels, and other settings and features needed for your data operation.\n",
    "\n",
    "### Configure Sample Clock\n",
    "niHSDIO_ConfigureSampleClock\n",
    "The Sample clock is the primary timebase for the digital waveform generator/analyzer. This clock controls the rate at which samples are acquired or generated. Each period of the Sample clock is capable of initiating the acquisition or generation of one sample per channel.\n",
    "\n",
    "**Options**:\n",
    "* OnBoardClock : On board clock\n",
    "* ClkIn : Use signal at front panel CLK IN connector\n",
    "* PXI_STAR : use PXI_STAR ignal on the PXI backplane, usable only by PXI devices other than those in Slot 2\n",
    "* STROBE : Uses clock present at STROBE channel of the DDC connector. Only valid for acquisition sessions"
   ]
  },
  {
   "cell_type": "markdown",
   "metadata": {},
   "source": [
    "## Waveforms\n",
    "Multiple waveforms can be saved to NI device memory (64ms?). We may be able to write our waveforms to this memory directly using one of the *niHISDIO_WriteNamedWaveform___* functions to write the waveforms from PC memory to device memory.\n",
    "\n",
    "If our device memory is too small to support our current functional waveforms (or some waveforms some amount larger) we'll try to make use of streaming the waveforms."
   ]
  },
  {
   "cell_type": "code",
   "execution_count": 3,
   "metadata": {},
   "outputs": [],
   "source": [
    "import numpy as np\n",
    "import os\n",
    "from ctypes import *"
   ]
  },
  {
   "cell_type": "code",
   "execution_count": 13,
   "metadata": {},
   "outputs": [],
   "source": [
    "hsdio = CDLL(os.path.join(\"C:\\Program Files (x86)\\IVI Foundation\\IVI\\Bin\",\"niHSDIO.dll\"))"
   ]
  },
  {
   "cell_type": "code",
   "execution_count": 14,
   "metadata": {},
   "outputs": [
    {
     "ename": "OSError",
     "evalue": "exception: access violation reading 0x00000008",
     "output_type": "error",
     "traceback": [
      "\u001b[1;31m---------------------------------------------------------------------------\u001b[0m",
      "\u001b[1;31mOSError\u001b[0m                                   Traceback (most recent call last)",
      "\u001b[1;32m<ipython-input-14-4751f6bf91dd>\u001b[0m in \u001b[0;36m<module>\u001b[1;34m\u001b[0m\n\u001b[1;32m----> 1\u001b[1;33m \u001b[0mhsdio\u001b[0m\u001b[1;33m.\u001b[0m\u001b[0mniHSDIO_InitGenerationSession\u001b[0m\u001b[1;33m(\u001b[0m\u001b[1;33m)\u001b[0m\u001b[1;33m\u001b[0m\u001b[1;33m\u001b[0m\u001b[0m\n\u001b[0m",
      "\u001b[1;31mOSError\u001b[0m: exception: access violation reading 0x00000008"
     ]
    }
   ],
   "source": [
    "hsdio.niHSDIO_InitGenerationSession()"
   ]
  },
  {
   "cell_type": "code",
   "execution_count": 16,
   "metadata": {},
   "outputs": [
    {
     "ename": "TypeError",
     "evalue": "__init__() missing 1 required positional argument: 'name'",
     "output_type": "error",
     "traceback": [
      "\u001b[1;31m---------------------------------------------------------------------------\u001b[0m",
      "\u001b[1;31mTypeError\u001b[0m                                 Traceback (most recent call last)",
      "\u001b[1;32m<ipython-input-16-d7774776a5c1>\u001b[0m in \u001b[0;36m<module>\u001b[1;34m\u001b[0m\n\u001b[1;32m----> 1\u001b[1;33m \u001b[0mhelp\u001b[0m\u001b[1;33m(\u001b[0m\u001b[0mCDLL\u001b[0m\u001b[1;33m(\u001b[0m\u001b[1;33m)\u001b[0m\u001b[1;33m)\u001b[0m\u001b[1;33m\u001b[0m\u001b[1;33m\u001b[0m\u001b[0m\n\u001b[0m",
      "\u001b[1;31mTypeError\u001b[0m: __init__() missing 1 required positional argument: 'name'"
     ]
    }
   ],
   "source": [
    "help(CDLL())"
   ]
  },
  {
   "cell_type": "code",
   "execution_count": 17,
   "metadata": {
    "scrolled": true
   },
   "outputs": [
    {
     "name": "stdout",
     "output_type": "stream",
     "text": [
      "32\n"
     ]
    }
   ],
   "source": [
    "import struct\n",
    "print(struct.calcsize(\"P\")*8)"
   ]
  },
  {
   "cell_type": "code",
   "execution_count": null,
   "metadata": {},
   "outputs": [],
   "source": []
  }
 ],
 "metadata": {
  "kernelspec": {
   "display_name": "Python 3",
   "language": "python",
   "name": "python3"
  },
  "language_info": {
   "codemirror_mode": {
    "name": "ipython",
    "version": 3
   },
   "file_extension": ".py",
   "mimetype": "text/x-python",
   "name": "python",
   "nbconvert_exporter": "python",
   "pygments_lexer": "ipython3",
   "version": "3.8.2"
  }
 },
 "nbformat": 4,
 "nbformat_minor": 4
}
